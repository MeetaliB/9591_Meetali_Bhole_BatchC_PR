{
 "cells": [
  {
   "cell_type": "code",
   "execution_count": 1,
   "id": "30c68e9f",
   "metadata": {},
   "outputs": [
    {
     "name": "stdout",
     "output_type": "stream",
     "text": [
      "Empty Jug 1 : (3, 0)\n",
      "Empty Jug 1 : (4, 3)\n",
      "Empty Jug 1 : (4, 0)\n",
      "Empty Jug 1 : (0, 0)\n",
      "[(0, 0), (4, 0), (4, 3), (0, 3), (3, 0), (3, 3), (4, 2)]\n"
     ]
    }
   ],
   "source": [
    "#Waterjug DFS\n",
    "def dfs(x, y, visited, path, m, n, d):\n",
    "    if visited[x][y]:\n",
    "        return False\n",
    "\n",
    "    visited[x][y] = True\n",
    "\n",
    "    if x == d or y == d:\n",
    "        path.append((x, y))\n",
    "        return True\n",
    "\n",
    "    # Empty Jug 1\n",
    "    if dfs(0, y, visited, path, m, n, d):\n",
    "        path.append((x, y))\n",
    "        print(f\"Empty Jug 1 : ({x}, {y})\")\n",
    "        return True\n",
    "\n",
    "    # Empty Jug 2\n",
    "    if dfs(x, 0, visited, path, m, n, d):\n",
    "        path.append((x, y))\n",
    "        print(f\"Empty Jug 1 : ({x}, {y})\")\n",
    "        return True\n",
    "\n",
    "    # Fill Jug 1\n",
    "    if dfs(m, y, visited, path, m, n, d):\n",
    "        path.append((x, y))\n",
    "        print(f\"Empty Jug 1 : ({x}, {y})\")\n",
    "        return True\n",
    "\n",
    "    # Fill Jug 2\n",
    "    if dfs(x, n, visited, path, m, n, d):\n",
    "        path.append((x, y))\n",
    "        print(f\"Empty Jug 1 : ({x}, {y})\")\n",
    "        return True\n",
    "\n",
    "    # Pour water from Jug 1 to Jug 2\n",
    "    pour = min(x, n - y)\n",
    "    if dfs(x - pour, y + pour, visited, path, m, n, d):\n",
    "        path.append((x, y))\n",
    "        return True\n",
    "\n",
    "    # Pour water from Jug 2 to Jug 1\n",
    "    pour = min(y, m - x)\n",
    "    if dfs(x + pour, y - pour, visited, path, m, n, d):\n",
    "        path.append((x, y))\n",
    "        return True\n",
    "\n",
    "    return False\n",
    "\n",
    "def water_jug_dfs(m, n, d):\n",
    "    visited = [[False] * (n + 1) for _ in range(m + 1)]\n",
    "    path = []\n",
    "\n",
    "    if dfs(0, 0, visited, path, m, n, d):\n",
    "        path.reverse()\n",
    "        return path\n",
    "    else:\n",
    "        return \"No\"\n",
    "\n",
    "# Example usage:\n",
    "m = 4  # capacity of Jug 1\n",
    "n = 3  # capacity of Jug 2\n",
    "d = 2  # desired liters of water\n",
    "\n",
    "result = water_jug_dfs(m, n, d)\n",
    "print(result)"
   ]
  },
  {
   "cell_type": "code",
   "execution_count": null,
   "id": "8fb5638b",
   "metadata": {},
   "outputs": [],
   "source": []
  }
 ],
 "metadata": {
  "kernelspec": {
   "display_name": "Python 3 (ipykernel)",
   "language": "python",
   "name": "python3"
  },
  "language_info": {
   "codemirror_mode": {
    "name": "ipython",
    "version": 3
   },
   "file_extension": ".py",
   "mimetype": "text/x-python",
   "name": "python",
   "nbconvert_exporter": "python",
   "pygments_lexer": "ipython3",
   "version": "3.7.1"
  }
 },
 "nbformat": 4,
 "nbformat_minor": 5
}
