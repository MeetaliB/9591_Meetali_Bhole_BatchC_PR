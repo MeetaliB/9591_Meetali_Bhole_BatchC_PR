{
 "cells": [
  {
   "cell_type": "code",
   "execution_count": 1,
   "id": "d5a0d2d6",
   "metadata": {},
   "outputs": [
    {
     "name": "stdout",
     "output_type": "stream",
     "text": [
      "Solution found:\n",
      "Step 1: Left: 3M 3C Boat: left Right: 0M 0C\n",
      "Step 2: Left: 2M 2C Boat: right Right: 1M 1C\n",
      "Step 3: Left: 3M 2C Boat: left Right: 0M 1C\n",
      "Step 4: Left: 3M 0C Boat: right Right: 0M 3C\n",
      "Step 5: Left: 3M 1C Boat: left Right: 0M 2C\n",
      "Step 6: Left: 1M 1C Boat: right Right: 2M 2C\n",
      "Step 7: Left: 2M 2C Boat: left Right: 1M 1C\n",
      "Step 8: Left: 0M 2C Boat: right Right: 3M 1C\n",
      "Step 9: Left: 0M 3C Boat: left Right: 3M 0C\n",
      "Step 10: Left: 0M 1C Boat: right Right: 3M 2C\n",
      "Step 11: Left: 0M 2C Boat: left Right: 3M 1C\n",
      "Step 12: Left: 0M 0C Boat: right Right: 3M 3C\n"
     ]
    }
   ],
   "source": [
    "#Missionaries & Cannibals DFS\n",
    "class State:\n",
    "    def __init__(self, left_m, left_c, boat, right_m, right_c):\n",
    "        self.left_m = left_m\n",
    "        self.left_c = left_c\n",
    "        self.boat = boat\n",
    "        self.right_m = right_m\n",
    "        self.right_c = right_c\n",
    "\n",
    "    def is_valid(self):\n",
    "        # Check if the state is valid (no missionaries eaten)\n",
    "        return (self.left_m == 0 or self.left_m >= self.left_c) and \\\n",
    "               (self.right_m == 0 or self.right_m >= self.right_c)\n",
    "\n",
    "    def is_goal(self):\n",
    "        # Check if the state is the goal state\n",
    "        return self.left_m == 0 and self.left_c == 0\n",
    "\n",
    "    def __str__(self):\n",
    "        return f\"Left: {self.left_m}M {self.left_c}C Boat: {self.boat} Right: {self.right_m}M {self.right_c}C\"\n",
    "\n",
    "def move(state, m, c):\n",
    "    if state.boat == 'left':\n",
    "        return State(state.left_m - m, state.left_c - c, 'right', state.right_m + m, state.right_c + c)\n",
    "    else:\n",
    "        return State(state.left_m + m, state.left_c + c, 'left', state.right_m - m, state.right_c - c)\n",
    "\n",
    "def dfs(current_state, visited_states, path):\n",
    "    if current_state.is_goal():\n",
    "        path.append(current_state)\n",
    "        return True\n",
    "\n",
    "    visited_states.add(str(current_state))\n",
    "\n",
    "    for m, c in [(0, 1), (1, 0), (1, 1), (2, 0), (0, 2)]:\n",
    "        next_state = move(current_state, m, c)\n",
    "\n",
    "        if next_state.is_valid() and str(next_state) not in visited_states:\n",
    "            path.append(current_state)\n",
    "            if dfs(next_state, visited_states, path):\n",
    "                return True\n",
    "            path.pop()\n",
    "\n",
    "    return False\n",
    "\n",
    "def solve():\n",
    "    initial_state = State(3, 3, 'left', 0, 0)\n",
    "    visited_states = set()\n",
    "    path = []\n",
    "\n",
    "    if dfs(initial_state, visited_states, path):\n",
    "        print(\"Solution found:\")\n",
    "        for step, state in enumerate(path):\n",
    "            print(f\"Step {step + 1}: {state}\")\n",
    "    else:\n",
    "        print(\"No solution found.\")\n",
    "\n",
    "if __name__ == \"__main__\":\n",
    "    solve()"
   ]
  },
  {
   "cell_type": "code",
   "execution_count": null,
   "id": "30c43125",
   "metadata": {},
   "outputs": [],
   "source": []
  }
 ],
 "metadata": {
  "kernelspec": {
   "display_name": "Python 3 (ipykernel)",
   "language": "python",
   "name": "python3"
  },
  "language_info": {
   "codemirror_mode": {
    "name": "ipython",
    "version": 3
   },
   "file_extension": ".py",
   "mimetype": "text/x-python",
   "name": "python",
   "nbconvert_exporter": "python",
   "pygments_lexer": "ipython3",
   "version": "3.7.1"
  }
 },
 "nbformat": 4,
 "nbformat_minor": 5
}
