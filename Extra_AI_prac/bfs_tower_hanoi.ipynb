{
 "cells": [
  {
   "cell_type": "code",
   "execution_count": 1,
   "id": "dc427bf3",
   "metadata": {},
   "outputs": [
    {
     "name": "stdout",
     "output_type": "stream",
     "text": [
      "Move disk 1 from source to auxiliary\n",
      "Move disk 1 from source to target\n",
      "Move disk 2 from source to target\n",
      "Move disk 1 from auxiliary to target\n",
      "Move disk 2 from source to auxiliary\n",
      "Move disk 1 from auxiliary to target\n",
      "Move disk 2 from source to auxiliary\n",
      "Move disk 3 from source to auxiliary\n"
     ]
    }
   ],
   "source": [
    "from collections import deque\n",
    "\n",
    "def print_move(source, target, disk):\n",
    "    print(f\"Move disk {disk} from {source} to {target}\")\n",
    "\n",
    "def hanoi(n, source, target, auxiliary):\n",
    "   \n",
    "    queue = deque([(source, target, auxiliary)])\n",
    "\n",
    "    while queue:\n",
    "        source, target, auxiliary = queue.popleft()\n",
    "\n",
    "       \n",
    "        if len(target) == n:\n",
    "            return source, target, auxiliary\n",
    "\n",
    "      \n",
    "        if source and (not auxiliary or source[-1] < auxiliary[-1]): \n",
    "            print_move('source', 'auxiliary', source[-1])\n",
    "            new_source, new_auxiliary = source[:-1], auxiliary + [source[-1]]\n",
    "            queue.append((new_source, target, new_auxiliary))\n",
    "\n",
    "      \n",
    "        if source and (not target or source[-1] < target[-1]):\n",
    "            print_move('source', 'target', source[-1])\n",
    "            new_source, new_target = source[:-1], target + [source[-1]]\n",
    "            queue.append((new_source, new_target, auxiliary))\n",
    "\n",
    "     \n",
    "        if auxiliary and (not target or auxiliary[-1] < target[-1]):\n",
    "            print_move('auxiliary', 'target', auxiliary[-1])\n",
    "            new_auxiliary, new_target = auxiliary[:-1], target + [auxiliary[-1]]\n",
    "            queue.append((source, new_target, new_auxiliary))\n",
    "\n",
    "\n",
    "source = [3, 2, 1]\n",
    "target = []\n",
    "auxiliary = []\n",
    "hanoi(3, source, target, auxiliary)"
   ]
  },
  {
   "cell_type": "code",
   "execution_count": null,
   "id": "dfd8a5ec",
   "metadata": {},
   "outputs": [],
   "source": []
  }
 ],
 "metadata": {
  "kernelspec": {
   "display_name": "Python 3 (ipykernel)",
   "language": "python",
   "name": "python3"
  },
  "language_info": {
   "codemirror_mode": {
    "name": "ipython",
    "version": 3
   },
   "file_extension": ".py",
   "mimetype": "text/x-python",
   "name": "python",
   "nbconvert_exporter": "python",
   "pygments_lexer": "ipython3",
   "version": "3.10.12"
  }
 },
 "nbformat": 4,
 "nbformat_minor": 5
}
